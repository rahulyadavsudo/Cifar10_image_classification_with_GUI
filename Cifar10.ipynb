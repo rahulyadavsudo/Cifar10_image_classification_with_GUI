{
 "cells": [
  {
   "cell_type": "code",
   "execution_count": 1,
   "metadata": {
    "executionInfo": {
     "elapsed": 3250,
     "status": "ok",
     "timestamp": 1612407352531,
     "user": {
      "displayName": "Rahul Yadav",
      "photoUrl": "",
      "userId": "00640763025754566352"
     },
     "user_tz": -330
    },
    "id": "wEtYOg8fKIs7"
   },
   "outputs": [],
   "source": [
    "#pip install tk"
   ]
  },
  {
   "cell_type": "code",
   "execution_count": 2,
   "metadata": {
    "colab": {
     "base_uri": "https://localhost:8080/"
    },
    "executionInfo": {
     "elapsed": 9417,
     "status": "ok",
     "timestamp": 1612407358726,
     "user": {
      "displayName": "Rahul Yadav",
      "photoUrl": "",
      "userId": "00640763025754566352"
     },
     "user_tz": -330
    },
    "id": "XOasfBU5LfDw",
    "outputId": "b63883c5-55c6-46d6-adc0-f528433c3d45"
   },
   "outputs": [],
   "source": [
    "from keras.datasets import cifar10\n",
    "(x_train,y_train),(x_test,y_test) = cifar10.load_data()"
   ]
  },
  {
   "cell_type": "code",
   "execution_count": 3,
   "metadata": {
    "colab": {
     "base_uri": "https://localhost:8080/"
    },
    "executionInfo": {
     "elapsed": 9406,
     "status": "ok",
     "timestamp": 1612407358738,
     "user": {
      "displayName": "Rahul Yadav",
      "photoUrl": "",
      "userId": "00640763025754566352"
     },
     "user_tz": -330
    },
    "id": "WbZUvkDCRb4e",
    "outputId": "26963fc7-362e-4c06-ba2b-aa95fb1a3046"
   },
   "outputs": [
    {
     "data": {
      "text/plain": [
       "(10000, 32, 32, 3)"
      ]
     },
     "execution_count": 3,
     "metadata": {},
     "output_type": "execute_result"
    }
   ],
   "source": [
    "x_test.shape"
   ]
  },
  {
   "cell_type": "code",
   "execution_count": 4,
   "metadata": {
    "colab": {
     "base_uri": "https://localhost:8080/"
    },
    "executionInfo": {
     "elapsed": 9385,
     "status": "ok",
     "timestamp": 1612407358741,
     "user": {
      "displayName": "Rahul Yadav",
      "photoUrl": "",
      "userId": "00640763025754566352"
     },
     "user_tz": -330
    },
    "id": "uSV75IasjdQU",
    "outputId": "7c88c8b3-ea1c-4bbe-949d-c00f94c99aff"
   },
   "outputs": [
    {
     "data": {
      "text/plain": [
       "array([[[ 59,  62,  63],\n",
       "        [ 43,  46,  45],\n",
       "        [ 50,  48,  43],\n",
       "        ...,\n",
       "        [158, 132, 108],\n",
       "        [152, 125, 102],\n",
       "        [148, 124, 103]],\n",
       "\n",
       "       [[ 16,  20,  20],\n",
       "        [  0,   0,   0],\n",
       "        [ 18,   8,   0],\n",
       "        ...,\n",
       "        [123,  88,  55],\n",
       "        [119,  83,  50],\n",
       "        [122,  87,  57]],\n",
       "\n",
       "       [[ 25,  24,  21],\n",
       "        [ 16,   7,   0],\n",
       "        [ 49,  27,   8],\n",
       "        ...,\n",
       "        [118,  84,  50],\n",
       "        [120,  84,  50],\n",
       "        [109,  73,  42]],\n",
       "\n",
       "       ...,\n",
       "\n",
       "       [[208, 170,  96],\n",
       "        [201, 153,  34],\n",
       "        [198, 161,  26],\n",
       "        ...,\n",
       "        [160, 133,  70],\n",
       "        [ 56,  31,   7],\n",
       "        [ 53,  34,  20]],\n",
       "\n",
       "       [[180, 139,  96],\n",
       "        [173, 123,  42],\n",
       "        [186, 144,  30],\n",
       "        ...,\n",
       "        [184, 148,  94],\n",
       "        [ 97,  62,  34],\n",
       "        [ 83,  53,  34]],\n",
       "\n",
       "       [[177, 144, 116],\n",
       "        [168, 129,  94],\n",
       "        [179, 142,  87],\n",
       "        ...,\n",
       "        [216, 184, 140],\n",
       "        [151, 118,  84],\n",
       "        [123,  92,  72]]], dtype=uint8)"
      ]
     },
     "execution_count": 4,
     "metadata": {},
     "output_type": "execute_result"
    }
   ],
   "source": [
    "x_train[0]"
   ]
  },
  {
   "cell_type": "code",
   "execution_count": 5,
   "metadata": {
    "executionInfo": {
     "elapsed": 9379,
     "status": "ok",
     "timestamp": 1612407358744,
     "user": {
      "displayName": "Rahul Yadav",
      "photoUrl": "",
      "userId": "00640763025754566352"
     },
     "user_tz": -330
    },
    "id": "a6D83nCpjOsk"
   },
   "outputs": [],
   "source": [
    "x_train = x_train.astype('float32')\n",
    "x_test = x_test.astype('float32')"
   ]
  },
  {
   "cell_type": "code",
   "execution_count": 6,
   "metadata": {
    "colab": {
     "base_uri": "https://localhost:8080/"
    },
    "executionInfo": {
     "elapsed": 9358,
     "status": "ok",
     "timestamp": 1612407358746,
     "user": {
      "displayName": "Rahul Yadav",
      "photoUrl": "",
      "userId": "00640763025754566352"
     },
     "user_tz": -330
    },
    "id": "t2JpeKgMRmrD",
    "outputId": "eb57626d-ec66-435f-b896-e85b79343547"
   },
   "outputs": [
    {
     "data": {
      "text/plain": [
       "array([[[ 59.,  62.,  63.],\n",
       "        [ 43.,  46.,  45.],\n",
       "        [ 50.,  48.,  43.],\n",
       "        ...,\n",
       "        [158., 132., 108.],\n",
       "        [152., 125., 102.],\n",
       "        [148., 124., 103.]],\n",
       "\n",
       "       [[ 16.,  20.,  20.],\n",
       "        [  0.,   0.,   0.],\n",
       "        [ 18.,   8.,   0.],\n",
       "        ...,\n",
       "        [123.,  88.,  55.],\n",
       "        [119.,  83.,  50.],\n",
       "        [122.,  87.,  57.]],\n",
       "\n",
       "       [[ 25.,  24.,  21.],\n",
       "        [ 16.,   7.,   0.],\n",
       "        [ 49.,  27.,   8.],\n",
       "        ...,\n",
       "        [118.,  84.,  50.],\n",
       "        [120.,  84.,  50.],\n",
       "        [109.,  73.,  42.]],\n",
       "\n",
       "       ...,\n",
       "\n",
       "       [[208., 170.,  96.],\n",
       "        [201., 153.,  34.],\n",
       "        [198., 161.,  26.],\n",
       "        ...,\n",
       "        [160., 133.,  70.],\n",
       "        [ 56.,  31.,   7.],\n",
       "        [ 53.,  34.,  20.]],\n",
       "\n",
       "       [[180., 139.,  96.],\n",
       "        [173., 123.,  42.],\n",
       "        [186., 144.,  30.],\n",
       "        ...,\n",
       "        [184., 148.,  94.],\n",
       "        [ 97.,  62.,  34.],\n",
       "        [ 83.,  53.,  34.]],\n",
       "\n",
       "       [[177., 144., 116.],\n",
       "        [168., 129.,  94.],\n",
       "        [179., 142.,  87.],\n",
       "        ...,\n",
       "        [216., 184., 140.],\n",
       "        [151., 118.,  84.],\n",
       "        [123.,  92.,  72.]]], dtype=float32)"
      ]
     },
     "execution_count": 6,
     "metadata": {},
     "output_type": "execute_result"
    }
   ],
   "source": [
    "x_train[0]"
   ]
  },
  {
   "cell_type": "code",
   "execution_count": 7,
   "metadata": {
    "executionInfo": {
     "elapsed": 11041,
     "status": "ok",
     "timestamp": 1612407360438,
     "user": {
      "displayName": "Rahul Yadav",
      "photoUrl": "",
      "userId": "00640763025754566352"
     },
     "user_tz": -330
    },
    "id": "WK3Z9_PvkA28"
   },
   "outputs": [],
   "source": [
    "x_train = x_train/255.0\n",
    "x_test = x_test/255.0"
   ]
  },
  {
   "cell_type": "code",
   "execution_count": 8,
   "metadata": {
    "colab": {
     "base_uri": "https://localhost:8080/"
    },
    "executionInfo": {
     "elapsed": 11020,
     "status": "ok",
     "timestamp": 1612407360440,
     "user": {
      "displayName": "Rahul Yadav",
      "photoUrl": "",
      "userId": "00640763025754566352"
     },
     "user_tz": -330
    },
    "id": "VbW6p6GukNv0",
    "outputId": "bd4bc149-d8f5-4cc0-962a-803dd36f6fbf"
   },
   "outputs": [
    {
     "data": {
      "text/plain": [
       "array([[[0.23137255, 0.24313726, 0.24705882],\n",
       "        [0.16862746, 0.18039216, 0.1764706 ],\n",
       "        [0.19607843, 0.1882353 , 0.16862746],\n",
       "        ...,\n",
       "        [0.61960787, 0.5176471 , 0.42352942],\n",
       "        [0.59607846, 0.49019608, 0.4       ],\n",
       "        [0.5803922 , 0.4862745 , 0.40392157]],\n",
       "\n",
       "       [[0.0627451 , 0.07843138, 0.07843138],\n",
       "        [0.        , 0.        , 0.        ],\n",
       "        [0.07058824, 0.03137255, 0.        ],\n",
       "        ...,\n",
       "        [0.48235294, 0.34509805, 0.21568628],\n",
       "        [0.46666667, 0.3254902 , 0.19607843],\n",
       "        [0.47843137, 0.34117648, 0.22352941]],\n",
       "\n",
       "       [[0.09803922, 0.09411765, 0.08235294],\n",
       "        [0.0627451 , 0.02745098, 0.        ],\n",
       "        [0.19215687, 0.10588235, 0.03137255],\n",
       "        ...,\n",
       "        [0.4627451 , 0.32941177, 0.19607843],\n",
       "        [0.47058824, 0.32941177, 0.19607843],\n",
       "        [0.42745098, 0.28627452, 0.16470589]],\n",
       "\n",
       "       ...,\n",
       "\n",
       "       [[0.8156863 , 0.6666667 , 0.3764706 ],\n",
       "        [0.7882353 , 0.6       , 0.13333334],\n",
       "        [0.7764706 , 0.6313726 , 0.10196079],\n",
       "        ...,\n",
       "        [0.627451  , 0.52156866, 0.27450982],\n",
       "        [0.21960784, 0.12156863, 0.02745098],\n",
       "        [0.20784314, 0.13333334, 0.07843138]],\n",
       "\n",
       "       [[0.7058824 , 0.54509807, 0.3764706 ],\n",
       "        [0.6784314 , 0.48235294, 0.16470589],\n",
       "        [0.7294118 , 0.5647059 , 0.11764706],\n",
       "        ...,\n",
       "        [0.72156864, 0.5803922 , 0.36862746],\n",
       "        [0.38039216, 0.24313726, 0.13333334],\n",
       "        [0.3254902 , 0.20784314, 0.13333334]],\n",
       "\n",
       "       [[0.69411767, 0.5647059 , 0.45490196],\n",
       "        [0.65882355, 0.5058824 , 0.36862746],\n",
       "        [0.7019608 , 0.5568628 , 0.34117648],\n",
       "        ...,\n",
       "        [0.84705883, 0.72156864, 0.54901963],\n",
       "        [0.5921569 , 0.4627451 , 0.32941177],\n",
       "        [0.48235294, 0.36078432, 0.28235295]]], dtype=float32)"
      ]
     },
     "execution_count": 8,
     "metadata": {},
     "output_type": "execute_result"
    }
   ],
   "source": [
    "x_train[0]"
   ]
  },
  {
   "cell_type": "code",
   "execution_count": 9,
   "metadata": {
    "executionInfo": {
     "elapsed": 11012,
     "status": "ok",
     "timestamp": 1612407360442,
     "user": {
      "displayName": "Rahul Yadav",
      "photoUrl": "",
      "userId": "00640763025754566352"
     },
     "user_tz": -330
    },
    "id": "qf3vv-mxkTv5"
   },
   "outputs": [],
   "source": [
    "from keras.utils import np_utils\n",
    "\n",
    "y_train = np_utils.to_categorical(y_train)\n",
    "y_test = np_utils.to_categorical(y_test)"
   ]
  },
  {
   "cell_type": "code",
   "execution_count": 10,
   "metadata": {
    "colab": {
     "base_uri": "https://localhost:8080/"
    },
    "executionInfo": {
     "elapsed": 10988,
     "status": "ok",
     "timestamp": 1612407360443,
     "user": {
      "displayName": "Rahul Yadav",
      "photoUrl": "",
      "userId": "00640763025754566352"
     },
     "user_tz": -330
    },
    "id": "RQgcK27mxqqd",
    "outputId": "008e149f-86e6-474c-cd98-1021c316ed63"
   },
   "outputs": [
    {
     "data": {
      "text/plain": [
       "(10000, 10)"
      ]
     },
     "execution_count": 10,
     "metadata": {},
     "output_type": "execute_result"
    }
   ],
   "source": [
    "y_test.shape"
   ]
  },
  {
   "cell_type": "code",
   "execution_count": 11,
   "metadata": {
    "executionInfo": {
     "elapsed": 10980,
     "status": "ok",
     "timestamp": 1612407360445,
     "user": {
      "displayName": "Rahul Yadav",
      "photoUrl": "",
      "userId": "00640763025754566352"
     },
     "user_tz": -330
    },
    "id": "LxcC1UrNqALM"
   },
   "outputs": [],
   "source": [
    "num_classes = y_test.shape[1]"
   ]
  },
  {
   "cell_type": "code",
   "execution_count": 12,
   "metadata": {
    "executionInfo": {
     "elapsed": 10974,
     "status": "ok",
     "timestamp": 1612407360446,
     "user": {
      "displayName": "Rahul Yadav",
      "photoUrl": "",
      "userId": "00640763025754566352"
     },
     "user_tz": -330
    },
    "id": "ilPg7-z3leNo"
   },
   "outputs": [],
   "source": [
    "from keras.models import Sequential\n",
    "from keras.layers import Dense,Flatten,Conv2D,MaxPooling2D,Dropout\n",
    "from keras.optimizers import SGD\n",
    "from keras.constraints import maxnorm"
   ]
  },
  {
   "cell_type": "code",
   "execution_count": 13,
   "metadata": {
    "executionInfo": {
     "elapsed": 15479,
     "status": "ok",
     "timestamp": 1612407364956,
     "user": {
      "displayName": "Rahul Yadav",
      "photoUrl": "",
      "userId": "00640763025754566352"
     },
     "user_tz": -330
    },
    "id": "eOSbEzxbmgHs"
   },
   "outputs": [
    {
     "name": "stdout",
     "output_type": "stream",
     "text": [
      "WARNING:tensorflow:From E:\\rahul\\anaconda3\\lib\\site-packages\\keras\\backend\\tensorflow_backend.py:4070: The name tf.nn.max_pool is deprecated. Please use tf.nn.max_pool2d instead.\n",
      "\n"
     ]
    }
   ],
   "source": [
    "model = Sequential()\n",
    "model.add(Conv2D(32,(3,3),input_shape = (32,32,3),padding='same',activation='relu',kernel_constraint=maxnorm(3)))\n",
    "model.add(Dropout(0.2))\n",
    "model.add(Conv2D(32,(3,3),input_shape = (32,32,3),padding='same',activation='relu',kernel_constraint=maxnorm(3)))\n",
    "model.add(MaxPooling2D(pool_size=(2,2)))\n",
    "model.add(Flatten())\n",
    "model.add(Dense(512,activation='relu',kernel_constraint=maxnorm(3)))\n",
    "model.add(Dropout(0.5))\n",
    "model.add(Dense(num_classes,activation='softmax'))"
   ]
  },
  {
   "cell_type": "code",
   "execution_count": 14,
   "metadata": {
    "colab": {
     "base_uri": "https://localhost:8080/"
    },
    "executionInfo": {
     "elapsed": 15468,
     "status": "ok",
     "timestamp": 1612407364960,
     "user": {
      "displayName": "Rahul Yadav",
      "photoUrl": "",
      "userId": "00640763025754566352"
     },
     "user_tz": -330
    },
    "id": "jVtrBwFgsRDm",
    "outputId": "c63cec97-cd62-4eaf-bfad-47ba87340765"
   },
   "outputs": [
    {
     "name": "stdout",
     "output_type": "stream",
     "text": [
      "Model: \"sequential_1\"\n",
      "_________________________________________________________________\n",
      "Layer (type)                 Output Shape              Param #   \n",
      "=================================================================\n",
      "conv2d_1 (Conv2D)            (None, 32, 32, 32)        896       \n",
      "_________________________________________________________________\n",
      "dropout_1 (Dropout)          (None, 32, 32, 32)        0         \n",
      "_________________________________________________________________\n",
      "conv2d_2 (Conv2D)            (None, 32, 32, 32)        9248      \n",
      "_________________________________________________________________\n",
      "max_pooling2d_1 (MaxPooling2 (None, 16, 16, 32)        0         \n",
      "_________________________________________________________________\n",
      "flatten_1 (Flatten)          (None, 8192)              0         \n",
      "_________________________________________________________________\n",
      "dense_1 (Dense)              (None, 512)               4194816   \n",
      "_________________________________________________________________\n",
      "dropout_2 (Dropout)          (None, 512)               0         \n",
      "_________________________________________________________________\n",
      "dense_2 (Dense)              (None, 10)                5130      \n",
      "=================================================================\n",
      "Total params: 4,210,090\n",
      "Trainable params: 4,210,090\n",
      "Non-trainable params: 0\n",
      "_________________________________________________________________\n"
     ]
    }
   ],
   "source": [
    "model.summary()"
   ]
  },
  {
   "cell_type": "code",
   "execution_count": 15,
   "metadata": {
    "executionInfo": {
     "elapsed": 15464,
     "status": "ok",
     "timestamp": 1612407364963,
     "user": {
      "displayName": "Rahul Yadav",
      "photoUrl": "",
      "userId": "00640763025754566352"
     },
     "user_tz": -330
    },
    "id": "9zrO02rnqufk"
   },
   "outputs": [],
   "source": [
    "sgd = SGD(learning_rate=0.01,momentum=0.9,decay=(0.01/25),nesterov=False)\n",
    "model.compile(loss='categorical_crossentropy',optimizer=sgd,metrics=['accuracy'])"
   ]
  },
  {
   "cell_type": "code",
   "execution_count": 16,
   "metadata": {
    "colab": {
     "base_uri": "https://localhost:8080/"
    },
    "executionInfo": {
     "elapsed": 180199,
     "status": "ok",
     "timestamp": 1612407529711,
     "user": {
      "displayName": "Rahul Yadav",
      "photoUrl": "",
      "userId": "00640763025754566352"
     },
     "user_tz": -330
    },
    "id": "5rRfpyxNr5co",
    "outputId": "76a293a4-899f-416c-9d29-c824c89f97c2"
   },
   "outputs": [
    {
     "name": "stdout",
     "output_type": "stream",
     "text": [
      "WARNING:tensorflow:From E:\\rahul\\anaconda3\\lib\\site-packages\\keras\\backend\\tensorflow_backend.py:422: The name tf.global_variables is deprecated. Please use tf.compat.v1.global_variables instead.\n",
      "\n",
      "Train on 50000 samples, validate on 10000 samples\n",
      "Epoch 1/20\n",
      "50000/50000 [==============================] - 526s 11ms/step - loss: 1.7525 - accuracy: 0.3654 - val_loss: 1.4695 - val_accuracy: 0.4748\n",
      "Epoch 2/20\n",
      "50000/50000 [==============================] - 393s 8ms/step - loss: 1.3688 - accuracy: 0.5064 - val_loss: 1.2527 - val_accuracy: 0.5468\n",
      "Epoch 3/20\n",
      "50000/50000 [==============================] - 389s 8ms/step - loss: 1.1938 - accuracy: 0.5753 - val_loss: 1.1191 - val_accuracy: 0.5981\n",
      "Epoch 4/20\n",
      "50000/50000 [==============================] - 389s 8ms/step - loss: 1.0768 - accuracy: 0.6168 - val_loss: 1.0423 - val_accuracy: 0.6310\n",
      "Epoch 5/20\n",
      "50000/50000 [==============================] - 396s 8ms/step - loss: 0.9836 - accuracy: 0.6512 - val_loss: 1.0041 - val_accuracy: 0.6424\n",
      "Epoch 6/20\n",
      "50000/50000 [==============================] - 398s 8ms/step - loss: 0.9053 - accuracy: 0.6817 - val_loss: 0.9684 - val_accuracy: 0.6603\n",
      "Epoch 7/20\n",
      "50000/50000 [==============================] - 380s 8ms/step - loss: 0.8317 - accuracy: 0.7052 - val_loss: 0.9448 - val_accuracy: 0.6668\n",
      "Epoch 8/20\n",
      "50000/50000 [==============================] - 385s 8ms/step - loss: 0.7689 - accuracy: 0.7258 - val_loss: 0.9235 - val_accuracy: 0.6749\n",
      "Epoch 9/20\n",
      "50000/50000 [==============================] - 388s 8ms/step - loss: 0.7121 - accuracy: 0.7480 - val_loss: 0.9219 - val_accuracy: 0.6811\n",
      "Epoch 10/20\n",
      "50000/50000 [==============================] - 388s 8ms/step - loss: 0.6638 - accuracy: 0.7662 - val_loss: 0.9119 - val_accuracy: 0.6871\n",
      "Epoch 11/20\n",
      "50000/50000 [==============================] - 378s 8ms/step - loss: 0.6152 - accuracy: 0.7818 - val_loss: 0.9189 - val_accuracy: 0.6829\n",
      "Epoch 12/20\n",
      "50000/50000 [==============================] - 387s 8ms/step - loss: 0.5703 - accuracy: 0.7982 - val_loss: 0.9129 - val_accuracy: 0.6906\n",
      "Epoch 13/20\n",
      "50000/50000 [==============================] - 379s 8ms/step - loss: 0.5332 - accuracy: 0.8114 - val_loss: 0.9392 - val_accuracy: 0.6886\n",
      "Epoch 14/20\n",
      "50000/50000 [==============================] - 7341s 147ms/step - loss: 0.4976 - accuracy: 0.8262 - val_loss: 0.9441 - val_accuracy: 0.6896\n",
      "Epoch 15/20\n",
      "50000/50000 [==============================] - 394s 8ms/step - loss: 0.4687 - accuracy: 0.8337 - val_loss: 0.9394 - val_accuracy: 0.6926\n",
      "Epoch 16/20\n",
      "50000/50000 [==============================] - 392s 8ms/step - loss: 0.4374 - accuracy: 0.8438 - val_loss: 0.9563 - val_accuracy: 0.7007\n",
      "Epoch 17/20\n",
      "50000/50000 [==============================] - 394s 8ms/step - loss: 0.4072 - accuracy: 0.8546 - val_loss: 0.9598 - val_accuracy: 0.6985\n",
      "Epoch 18/20\n",
      "50000/50000 [==============================] - 395s 8ms/step - loss: 0.3850 - accuracy: 0.8650 - val_loss: 0.9778 - val_accuracy: 0.6945\n",
      "Epoch 19/20\n",
      "50000/50000 [==============================] - 396s 8ms/step - loss: 0.3627 - accuracy: 0.8736 - val_loss: 0.9816 - val_accuracy: 0.6980\n",
      "Epoch 20/20\n",
      "50000/50000 [==============================] - 393s 8ms/step - loss: 0.3416 - accuracy: 0.8784 - val_loss: 1.0027 - val_accuracy: 0.7002\n"
     ]
    },
    {
     "data": {
      "text/plain": [
       "<keras.callbacks.callbacks.History at 0xec69d4b908>"
      ]
     },
     "execution_count": 16,
     "metadata": {},
     "output_type": "execute_result"
    }
   ],
   "source": [
    "model.fit(x_train,y_train,validation_data=(x_test,y_test),epochs =20,batch_size = 32)"
   ]
  },
  {
   "cell_type": "code",
   "execution_count": 17,
   "metadata": {
    "colab": {
     "base_uri": "https://localhost:8080/"
    },
    "executionInfo": {
     "elapsed": 2440,
     "status": "ok",
     "timestamp": 1612407863784,
     "user": {
      "displayName": "Rahul Yadav",
      "photoUrl": "",
      "userId": "00640763025754566352"
     },
     "user_tz": -330
    },
    "id": "ad3FMUJVvgQn",
    "outputId": "cd004707-d641-46e9-f9d3-cf53413379d2"
   },
   "outputs": [
    {
     "name": "stdout",
     "output_type": "stream",
     "text": [
      "10000/10000 [==============================] - 11s 1ms/step\n"
     ]
    },
    {
     "data": {
      "text/plain": [
       "[1.002738603401184, 0.7002000212669373]"
      ]
     },
     "execution_count": 17,
     "metadata": {},
     "output_type": "execute_result"
    }
   ],
   "source": [
    "model.evaluate(x_test,y_test)"
   ]
  },
  {
   "cell_type": "code",
   "execution_count": 18,
   "metadata": {
    "colab": {
     "base_uri": "https://localhost:8080/"
    },
    "executionInfo": {
     "elapsed": 1460,
     "status": "ok",
     "timestamp": 1612407957460,
     "user": {
      "displayName": "Rahul Yadav",
      "photoUrl": "",
      "userId": "00640763025754566352"
     },
     "user_tz": -330
    },
    "id": "Ate5Ze9-_xY7",
    "outputId": "a77074d2-96d7-4c47-8984-ec065c323008"
   },
   "outputs": [
    {
     "data": {
      "text/plain": [
       "array([1.1292156e-04, 2.4378697e-04, 1.6818012e-04, 6.8812776e-01,\n",
       "       2.8817399e-04, 2.9330760e-01, 1.7401720e-04, 4.2776479e-05,\n",
       "       1.7532416e-02, 2.3819903e-06], dtype=float32)"
      ]
     },
     "execution_count": 18,
     "metadata": {},
     "output_type": "execute_result"
    }
   ],
   "source": [
    "y_pred = model.predict(x_test)\n",
    "y_pred[0]"
   ]
  },
  {
   "cell_type": "code",
   "execution_count": 19,
   "metadata": {
    "colab": {
     "base_uri": "https://localhost:8080/"
    },
    "executionInfo": {
     "elapsed": 1556,
     "status": "ok",
     "timestamp": 1612408179691,
     "user": {
      "displayName": "Rahul Yadav",
      "photoUrl": "",
      "userId": "00640763025754566352"
     },
     "user_tz": -330
    },
    "id": "5wTh5H4pAaLh",
    "outputId": "558ba581-92d5-4c50-b64a-4e6f40023725"
   },
   "outputs": [
    {
     "data": {
      "text/plain": [
       "[3, 8, 8, 0, 4]"
      ]
     },
     "execution_count": 19,
     "metadata": {},
     "output_type": "execute_result"
    }
   ],
   "source": [
    "import numpy as np\n",
    "y_classes = [np.argmax(element) for element in y_pred]\n",
    "y_classes[:5]"
   ]
  },
  {
   "cell_type": "code",
   "execution_count": 20,
   "metadata": {
    "colab": {
     "base_uri": "https://localhost:8080/"
    },
    "executionInfo": {
     "elapsed": 815,
     "status": "ok",
     "timestamp": 1612408179693,
     "user": {
      "displayName": "Rahul Yadav",
      "photoUrl": "",
      "userId": "00640763025754566352"
     },
     "user_tz": -330
    },
    "id": "nwFpFWW1A3Ps",
    "outputId": "cdd52089-3ade-40c2-df2c-e5fad11fa6d1"
   },
   "outputs": [
    {
     "data": {
      "text/plain": [
       "array([[0., 0., 0., 1., 0., 0., 0., 0., 0., 0.],\n",
       "       [0., 0., 0., 0., 0., 0., 0., 0., 1., 0.],\n",
       "       [0., 0., 0., 0., 0., 0., 0., 0., 1., 0.],\n",
       "       [1., 0., 0., 0., 0., 0., 0., 0., 0., 0.],\n",
       "       [0., 0., 0., 0., 0., 0., 1., 0., 0., 0.]], dtype=float32)"
      ]
     },
     "execution_count": 20,
     "metadata": {},
     "output_type": "execute_result"
    }
   ],
   "source": [
    "y_test[:5]"
   ]
  },
  {
   "cell_type": "code",
   "execution_count": 21,
   "metadata": {
    "executionInfo": {
     "elapsed": 1499,
     "status": "ok",
     "timestamp": 1612408646183,
     "user": {
      "displayName": "Rahul Yadav",
      "photoUrl": "",
      "userId": "00640763025754566352"
     },
     "user_tz": -330
    },
    "id": "HHCSjMt3BEhe"
   },
   "outputs": [],
   "source": [
    "model.save('model_cifar10.h5')"
   ]
  },
  {
   "cell_type": "code",
   "execution_count": 1,
   "metadata": {
    "colab": {
     "base_uri": "https://localhost:8080/"
    },
    "executionInfo": {
     "elapsed": 4519,
     "status": "ok",
     "timestamp": 1612409327789,
     "user": {
      "displayName": "Rahul Yadav",
      "photoUrl": "",
      "userId": "00640763025754566352"
     },
     "user_tz": -330
    },
    "id": "iQVQAYGzFPRc",
    "outputId": "4ea510ec-92e2-4303-f732-2e64e5dbcd3f"
   },
   "outputs": [],
   "source": [
    "#!pip3 install tk"
   ]
  },
  {
   "cell_type": "code",
   "execution_count": 2,
   "metadata": {},
   "outputs": [
    {
     "name": "stderr",
     "output_type": "stream",
     "text": [
      "E:\\rahul\\anaconda3\\lib\\site-packages\\numpy\\_distributor_init.py:32: UserWarning: loaded more than 1 DLL from .libs:\n",
      "E:\\rahul\\anaconda3\\lib\\site-packages\\numpy\\.libs\\libopenblas.NOIJJG62EMASZI6NYURL6JBKM4EVBGM7.gfortran-win_amd64.dll\n",
      "E:\\rahul\\anaconda3\\lib\\site-packages\\numpy\\.libs\\libopenblas.PYQHXLVVQ7VESDPUVUADXEVJOBGHJPAY.gfortran-win_amd64.dll\n",
      "  stacklevel=1)\n"
     ]
    }
   ],
   "source": [
    "import tkinter as tk\n",
    "from tkinter import filedialog\n",
    "from tkinter import *\n",
    "from PIL import ImageTk, Image\n",
    "import numpy as np"
   ]
  },
  {
   "cell_type": "code",
   "execution_count": 4,
   "metadata": {},
   "outputs": [
    {
     "name": "stdout",
     "output_type": "stream",
     "text": [
      "aeroplane\n"
     ]
    }
   ],
   "source": [
    "from keras.models import load_model\n",
    "model = load_model('model_cifar10.h5')\n",
    "\n",
    "classes = {\n",
    "\n",
    "    0:'aeroplane',\n",
    "    1:'automobile',\n",
    "    2:'bird',\n",
    "    3:'cat',\n",
    "    4:'deer',\n",
    "    5:'dog',\n",
    "    6:'frog',\n",
    "    7:'horse',\n",
    "    8:'ship',\n",
    "    9:'truck' \n",
    "}\n",
    "\n",
    "top = tk.Tk()\n",
    "top.geometry('800x600')\n",
    "top.title('Image Classification')\n",
    "top.configure(background = '#CDCDCD')\n",
    "label = Label(top,background = '#CDCDCD',font = ('arial',30,'bold'))\n",
    "sign_image = Label(top)\n",
    "\n",
    "def classify(file_path):\n",
    "    global label_packed\n",
    "    image = Image.open(file_path)\n",
    "    image = image.resize((32,32))\n",
    "    image = np.expand_dims(image,axis = 0)\n",
    "    image = np.array(image)\n",
    "    pred = model.predict_classes([image])[0]\n",
    "    sign = classes[pred]\n",
    "    print(sign)\n",
    "    label.configure(foreground='#011638', text=sign)\n",
    "    \n",
    "\n",
    "def show_classify_button(file_path):\n",
    "    classify_b = Button(top,text='classify Image',\n",
    "    command = lambda: classify(file_path),padx=10,pady=5)\n",
    "    classify_b.configure(background='#364156', foreground='white',\n",
    "        font=('arial',10,'bold'))\n",
    "    classify_b.place(relx=0.79,rely=0.46)\n",
    "    \n",
    "\n",
    "def upload_image():\n",
    "    try:\n",
    "        file_path=filedialog.askopenfilename()\n",
    "        uploaded=Image.open(file_path)\n",
    "        uploaded.thumbnail(((top.winfo_width()/2.25),\n",
    "    (top.winfo_height()/2.25)))\n",
    "        im=ImageTk.PhotoImage(uploaded)\n",
    "        sign_image.configure(image=im)\n",
    "        sign_image.image=im\n",
    "        label.configure(text='')\n",
    "        show_classify_button(file_path)\n",
    "    except:\n",
    "        pass\n",
    "\n",
    "upload=Button(top,text=\"Upload an image\",command=upload_image,\n",
    "  padx=10,pady=5)\n",
    "\n",
    "upload.configure(background='#364156', foreground='white',\n",
    "    font=('arial',10,'bold'))\n",
    "\n",
    "upload.pack(side=BOTTOM,pady=60)\n",
    "sign_image.pack(side=BOTTOM,expand=True)\n",
    "label.pack(side=BOTTOM,expand=True)\n",
    "heading = Label(top, text=\"Image Classification CIFAR10\",pady=20, font=('arial',20,'bold'))    \n",
    "    \n",
    "heading.configure(background='#CDCDCD',foreground='#364156')\n",
    "heading.pack()\n",
    "top.mainloop()"
   ]
  },
  {
   "cell_type": "code",
   "execution_count": null,
   "metadata": {},
   "outputs": [],
   "source": []
  }
 ],
 "metadata": {
  "accelerator": "GPU",
  "colab": {
   "authorship_tag": "ABX9TyPCc91xSMd/8cYtF531qJT7",
   "collapsed_sections": [],
   "name": "Cifar10.ipynb",
   "provenance": []
  },
  "kernelspec": {
   "display_name": "Python 3",
   "language": "python",
   "name": "python3"
  },
  "language_info": {
   "codemirror_mode": {
    "name": "ipython",
    "version": 3
   },
   "file_extension": ".py",
   "mimetype": "text/x-python",
   "name": "python",
   "nbconvert_exporter": "python",
   "pygments_lexer": "ipython3",
   "version": "3.7.6"
  }
 },
 "nbformat": 4,
 "nbformat_minor": 1
}
